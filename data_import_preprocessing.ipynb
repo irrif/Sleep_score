{
 "cells": [
  {
   "cell_type": "markdown",
   "metadata": {},
   "source": [
    "<h1 style=\"text-align: center;\">Data import and preprocessing</h1>"
   ]
  },
  {
   "cell_type": "markdown",
   "metadata": {},
   "source": [
    "## 1. Dataset explanations <a id='dataset_explanations'></a>\n",
    "\n",
    "<h4><b><u>Activities Dataset :</u></b></h4>\n",
    "\n",
    "- <u>Type</u> : Activity type, e.g. running, cycling, swimming, etc...\n",
    "- <u>Date</u> : Date of the activity\n",
    "- <u>Activity_distance</u> : Distance of the activity in kilometers (or meters for swimming)\n",
    "- <u>Activity_calories</u> : Calories consumed during activity\n",
    "- <u>Duration</u> : Total duration of the activity (hh:mm:ss)\n",
    "- <u>Activity_average_heart_rate</u> : Average heart rate during the activity\n",
    "- <u>Activity_maximum_heart_rate</u> : Maximum heart rate reached during the activity\n",
    "- <u>Aerobic TE</u> : As provided by Garmin, the training effect is a measure that provides informations about the effect on our physicial condition. \n",
    "    This Training Effect is between 0 and 5, with :\n",
    "    - 0 to 0.9 : No improvement\n",
    "    - 1 to 1.9 : Little improvement\n",
    "    - 2 to 2.9 : Maintain\n",
    "    - 3 to 3.9 : Improvement\n",
    "    - 4 to 4.9 : Great improvement\n",
    "    - 5 : Objective exceeded\n",
    "- <u>Average_running_cadence</u> : Only presents in running activity, represent the average steps by minutes\n",
    "- <u>Maximum_running_cadence</u> : Only presents in running activity, represent the maximum steps by minutes reached\n",
    "- <u>Average_pace</u> : Average pace during the activity. \n",
    "    - min/km for running\n",
    "    - km/h for cycling\n",
    "    - min/100m for swimming\n",
    "- <u>Best_pace</u> : Best pace reached during the activity.\n",
    "- <u>Maximum_temperature</u> : Maximum outside temperature recorded by the watch during the activity.\n",
    "- <u>Activity_minimum_respiratory_frequency</u> : Minimum respiratory frequency recorded during activity. In breathing/minutes.\n",
    "- <u>Activity_average_respiratory_frequency</u> : Average respiratory frequency recorded during activity. In breathing/minutes.\n",
    "- <u>Activity_maximum_respiratory_frequency</u> : Maximum respiratory frequency recorded during activity. In breathing/minutes.\n",
    "- <u>Travel_time</u> : Time spent in movement during the activity (hh:mm:ss)\n",
    "- <u>Elapsed_time</u> : Total time of the activity (hh:mm:ss)\n",
    "- <u>Minimum_altitude</u> : Minimum altitude recorded by the watch during the activity.\n",
    "- <u>Maximum_altitude</u> : Maximum altitude recorded by the watch during the activity.\n",
    "<hr>\n",
    "<h4><b><u>Calories Dataset :</u></b></h4>\n",
    "\n",
    "- <u>Date</u> : Date associated\n",
    "- <u>Active_calories</u> : Calories consumed in activity\n",
    "- <u>Resting_calories</u> : Base calories consumption of the body\n",
    "- <u>Total_calories</u> : Total calories consumed during the day, sum of the active calories and resting calories.\n",
    "<hr>\n",
    "<h4><b><u>Heart rate Dataset :</u></b></h4>\n",
    "\n",
    "- <u>Date</u> : Date associated\n",
    "- <u>Resting_HR</u> : Heart rate when the body is at rest, usually when we are sleeping or lying in bed after waking up. <a style=\"color: rgb(255,0,0)\"><b>This variable is automatically eliminated as it is recorded during sleep.</b></a>\n",
    "- <u>Highest_HR</u> : Highest reached heart rate of the day.\n",
    "<hr>\n",
    "<h4><b><u>Sleep Dataset</u></b></h4>\n",
    "\n",
    "- <u>Score</u> : Represents a sleeping score on a scale from 0 to 100, that represents how well we slept.\n",
    "- <u>Date</u> : Wake-up date. Meaning that all the other dataset are shifted by one day in relation to this dataset.\n",
    "- <u>Base_HR</u> : Heart rate when the body is at rest, usually when we are sleeping or lying in bed after waking up.\n",
    "- <u>HRV (Heart Rate Variability)</u> : The HRV represents the variation in time between consecutive heartbeats.  HRV is a great indicator of the balance between the activity of the two branches of the autonomic nervous system. It is an indirect measurement of stress, higher HRV means lower stress. It is also used to determine sleep stages. (source : https://support.garmin.com/en-US/?faq=04pnPSBTYSAYL9FylZoUl5)\n",
    "- <u>Quality</u> : The quality is highly related to score as it is bins of the latter.\n",
    "    - Poor : 0 - 59\n",
    "    - Fair : 60 - 79\n",
    "    - Good : 80 - 89\n",
    "    - Excellent : 90 - 100\n",
    "- <u>Sleep_duration</u> : Time spent sleeping.\n",
    "- <u>Bedtime</u> : Time we fell asleep. (hh:mm)\n",
    "- <u>Waking_hour</u> : Wake-up time. (hh:mm)  <a style=\"color: rgb(255,0,0)\"><b>This variable is automatically eliminated as it is a result of sleep.</b></a>"
   ]
  },
  {
   "cell_type": "code",
   "execution_count": 211,
   "metadata": {},
   "outputs": [
    {
     "name": "stdout",
     "output_type": "stream",
     "text": [
      "The autoreload extension is already loaded. To reload it, use:\n",
      "  %reload_ext autoreload\n"
     ]
    }
   ],
   "source": [
    "%load_ext autoreload\n",
    "%autoreload 2\n",
    "\n",
    "from functions import *\n",
    "\n",
    "from sklearn.preprocessing import LabelEncoder, OrdinalEncoder"
   ]
  },
  {
   "cell_type": "code",
   "execution_count": 212,
   "metadata": {},
   "outputs": [],
   "source": [
    "activities_vars = [\"Type d'activité\", \"Date\", \"Distance\", \"Calories\", \"Durée\", \"Fréquence cardiaque moyenne\", \"Fréquence cardiaque maximale\",\n",
    "                   \"TE aérobie\", \"Cadence de course moyenne\", \"Cadence de course maximale\", \"Allure moyenne\", \"Meilleure allure\",\n",
    "                   \"Température maximale\", \"Fréquence respiratoire moyenne\", \"Fréquence respiratoire minimale\", \"Fréquence respiratoire maximale\",\n",
    "                   \"Temps de déplacement\", \"Temps écoulé\", \"Altitude minimale\", \"Altitude maximale\"]\n",
    "\n",
    "activities_vars_eng = [\"Type\", \"Date\", \"Activity_distance\", \"Activity_calories\", \"Duration\", \"Activity_average_heart_rate\", \"Activity_maximum_heart_rate\",\n",
    "                       \"Aerobic_TE\", \"Average_running_cadence\", \"Maximum_running_cadence\", \"Average_pace\", \"Best_pace\",\n",
    "                       \"Maximum_temperature\", \"Activity_average_respiratory_frequency\", \"Activity_minimum_respiratory_frequency\", \"Activity_maximum_respiratory_frequency\",\n",
    "                       \"Travel_time\", \"Elapsed_time\", \"Minimum_altitude\", \"Maximum_altitude\"]"
   ]
  },
  {
   "cell_type": "code",
   "execution_count": 213,
   "metadata": {},
   "outputs": [],
   "source": [
    "activities_vars_rename = dict(zip(activities_vars, activities_vars_eng))"
   ]
  },
  {
   "cell_type": "code",
   "execution_count": 214,
   "metadata": {},
   "outputs": [
    {
     "name": "stdout",
     "output_type": "stream",
     "text": [
      "(380, 20)\n"
     ]
    },
    {
     "data": {
      "text/html": [
       "<div>\n",
       "<style scoped>\n",
       "    .dataframe tbody tr th:only-of-type {\n",
       "        vertical-align: middle;\n",
       "    }\n",
       "\n",
       "    .dataframe tbody tr th {\n",
       "        vertical-align: top;\n",
       "    }\n",
       "\n",
       "    .dataframe thead th {\n",
       "        text-align: right;\n",
       "    }\n",
       "</style>\n",
       "<table border=\"1\" class=\"dataframe\">\n",
       "  <thead>\n",
       "    <tr style=\"text-align: right;\">\n",
       "      <th></th>\n",
       "      <th>Type</th>\n",
       "      <th>Date</th>\n",
       "      <th>Activity_distance</th>\n",
       "      <th>Activity_calories</th>\n",
       "      <th>Duration</th>\n",
       "      <th>Activity_average_heart_rate</th>\n",
       "      <th>Activity_maximum_heart_rate</th>\n",
       "      <th>Aerobic_TE</th>\n",
       "      <th>Average_running_cadence</th>\n",
       "      <th>Maximum_running_cadence</th>\n",
       "      <th>Average_pace</th>\n",
       "      <th>Best_pace</th>\n",
       "      <th>Maximum_temperature</th>\n",
       "      <th>Activity_average_respiratory_frequency</th>\n",
       "      <th>Activity_minimum_respiratory_frequency</th>\n",
       "      <th>Activity_maximum_respiratory_frequency</th>\n",
       "      <th>Travel_time</th>\n",
       "      <th>Elapsed_time</th>\n",
       "      <th>Minimum_altitude</th>\n",
       "      <th>Maximum_altitude</th>\n",
       "    </tr>\n",
       "  </thead>\n",
       "  <tbody>\n",
       "    <tr>\n",
       "      <th>0</th>\n",
       "      <td>Course à pied</td>\n",
       "      <td>2024-05-09 15:49:57</td>\n",
       "      <td>9.45</td>\n",
       "      <td>720</td>\n",
       "      <td>00:49:25</td>\n",
       "      <td>162</td>\n",
       "      <td>193</td>\n",
       "      <td>3.9</td>\n",
       "      <td>161.0</td>\n",
       "      <td>172.0</td>\n",
       "      <td>5:14</td>\n",
       "      <td>3:58</td>\n",
       "      <td>29.0</td>\n",
       "      <td>33.0</td>\n",
       "      <td>19.0</td>\n",
       "      <td>42.0</td>\n",
       "      <td>00:48:16</td>\n",
       "      <td>00:49:25</td>\n",
       "      <td>34.0</td>\n",
       "      <td>53</td>\n",
       "    </tr>\n",
       "    <tr>\n",
       "      <th>1</th>\n",
       "      <td>Course à pied</td>\n",
       "      <td>2024-05-08 18:40:10</td>\n",
       "      <td>7.33</td>\n",
       "      <td>522</td>\n",
       "      <td>00:43:53</td>\n",
       "      <td>133</td>\n",
       "      <td>151</td>\n",
       "      <td>2.5</td>\n",
       "      <td>159.0</td>\n",
       "      <td>190.0</td>\n",
       "      <td>5:59</td>\n",
       "      <td>5:04</td>\n",
       "      <td>26.0</td>\n",
       "      <td>26.0</td>\n",
       "      <td>14.0</td>\n",
       "      <td>34.0</td>\n",
       "      <td>00:43:24</td>\n",
       "      <td>00:43:54</td>\n",
       "      <td>45.0</td>\n",
       "      <td>58</td>\n",
       "    </tr>\n",
       "    <tr>\n",
       "      <th>2</th>\n",
       "      <td>Course à pied</td>\n",
       "      <td>2024-05-07 18:48:17</td>\n",
       "      <td>1.44</td>\n",
       "      <td>106</td>\n",
       "      <td>00:07:15.2</td>\n",
       "      <td>148</td>\n",
       "      <td>174</td>\n",
       "      <td>2.1</td>\n",
       "      <td>162.0</td>\n",
       "      <td>221.0</td>\n",
       "      <td>5:03</td>\n",
       "      <td>3:55</td>\n",
       "      <td>26.0</td>\n",
       "      <td>NaN</td>\n",
       "      <td>NaN</td>\n",
       "      <td>NaN</td>\n",
       "      <td>00:06:55.3</td>\n",
       "      <td>00:07:15.2</td>\n",
       "      <td>41.0</td>\n",
       "      <td>52</td>\n",
       "    </tr>\n",
       "  </tbody>\n",
       "</table>\n",
       "</div>"
      ],
      "text/plain": [
       "            Type                 Date Activity_distance Activity_calories  \\\n",
       "0  Course à pied  2024-05-09 15:49:57              9.45               720   \n",
       "1  Course à pied  2024-05-08 18:40:10              7.33               522   \n",
       "2  Course à pied  2024-05-07 18:48:17              1.44               106   \n",
       "\n",
       "     Duration  Activity_average_heart_rate  Activity_maximum_heart_rate  \\\n",
       "0    00:49:25                          162                          193   \n",
       "1    00:43:53                          133                          151   \n",
       "2  00:07:15.2                          148                          174   \n",
       "\n",
       "   Aerobic_TE  Average_running_cadence  Maximum_running_cadence Average_pace  \\\n",
       "0         3.9                    161.0                    172.0         5:14   \n",
       "1         2.5                    159.0                    190.0         5:59   \n",
       "2         2.1                    162.0                    221.0         5:03   \n",
       "\n",
       "  Best_pace  Maximum_temperature  Activity_average_respiratory_frequency  \\\n",
       "0      3:58                 29.0                                    33.0   \n",
       "1      5:04                 26.0                                    26.0   \n",
       "2      3:55                 26.0                                     NaN   \n",
       "\n",
       "   Activity_minimum_respiratory_frequency  \\\n",
       "0                                    19.0   \n",
       "1                                    14.0   \n",
       "2                                     NaN   \n",
       "\n",
       "   Activity_maximum_respiratory_frequency Travel_time Elapsed_time  \\\n",
       "0                                    42.0    00:48:16     00:49:25   \n",
       "1                                    34.0    00:43:24     00:43:54   \n",
       "2                                     NaN  00:06:55.3   00:07:15.2   \n",
       "\n",
       "   Minimum_altitude Maximum_altitude  \n",
       "0              34.0               53  \n",
       "1              45.0               58  \n",
       "2              41.0               52  "
      ]
     },
     "execution_count": 214,
     "metadata": {},
     "output_type": "execute_result"
    }
   ],
   "source": [
    "# Import activities data and rename variables in english\n",
    "activities = pd.read_csv(\"Data/Activities.csv\", sep=\",\", header=0, encoding=\"utf8\", na_values='--')\n",
    "activities = activities[activities_vars]\n",
    "activities = activities.rename(columns=activities_vars_rename)\n",
    "print(activities.shape)\n",
    "activities.head(3)"
   ]
  },
  {
   "cell_type": "code",
   "execution_count": 215,
   "metadata": {},
   "outputs": [
    {
     "name": "stdout",
     "output_type": "stream",
     "text": [
      "(487, 4)\n"
     ]
    },
    {
     "data": {
      "text/html": [
       "<div>\n",
       "<style scoped>\n",
       "    .dataframe tbody tr th:only-of-type {\n",
       "        vertical-align: middle;\n",
       "    }\n",
       "\n",
       "    .dataframe tbody tr th {\n",
       "        vertical-align: top;\n",
       "    }\n",
       "\n",
       "    .dataframe thead th {\n",
       "        text-align: right;\n",
       "    }\n",
       "</style>\n",
       "<table border=\"1\" class=\"dataframe\">\n",
       "  <thead>\n",
       "    <tr style=\"text-align: right;\">\n",
       "      <th></th>\n",
       "      <th>Date</th>\n",
       "      <th>Active_calories</th>\n",
       "      <th>Resting_calories</th>\n",
       "      <th>Total_calories</th>\n",
       "    </tr>\n",
       "  </thead>\n",
       "  <tbody>\n",
       "    <tr>\n",
       "      <th>0</th>\n",
       "      <td>15 Avr.</td>\n",
       "      <td>772</td>\n",
       "      <td>1,837</td>\n",
       "      <td>2,609</td>\n",
       "    </tr>\n",
       "    <tr>\n",
       "      <th>1</th>\n",
       "      <td>14 Avr.</td>\n",
       "      <td>1,491</td>\n",
       "      <td>2,187</td>\n",
       "      <td>3,678</td>\n",
       "    </tr>\n",
       "    <tr>\n",
       "      <th>2</th>\n",
       "      <td>13 Avr.</td>\n",
       "      <td>620</td>\n",
       "      <td>2,187</td>\n",
       "      <td>2,807</td>\n",
       "    </tr>\n",
       "  </tbody>\n",
       "</table>\n",
       "</div>"
      ],
      "text/plain": [
       "      Date Active_calories Resting_calories Total_calories\n",
       "0  15 Avr.             772            1,837          2,609\n",
       "1  14 Avr.           1,491            2,187          3,678\n",
       "2  13 Avr.             620            2,187          2,807"
      ]
     },
     "execution_count": 215,
     "metadata": {},
     "output_type": "execute_result"
    }
   ],
   "source": [
    "# Import calories data and rename variables in english\n",
    "calories = pd.read_csv(\"Data/Calories_pv.csv\", sep=\";\", header=0, encoding=\"latin1\")\n",
    "calories = calories.rename(columns={\"Calories actives\": \"Active_calories\",\n",
    "                                    \"Calories au repos\": \"Resting_calories\",\n",
    "                                    \"Calories dépensées au total\": \"Total_calories\"})\n",
    "print(calories.shape)\n",
    "calories.head(3)"
   ]
  },
  {
   "cell_type": "code",
   "execution_count": 216,
   "metadata": {},
   "outputs": [
    {
     "name": "stdout",
     "output_type": "stream",
     "text": [
      "(470, 3)\n"
     ]
    },
    {
     "data": {
      "text/html": [
       "<div>\n",
       "<style scoped>\n",
       "    .dataframe tbody tr th:only-of-type {\n",
       "        vertical-align: middle;\n",
       "    }\n",
       "\n",
       "    .dataframe tbody tr th {\n",
       "        vertical-align: top;\n",
       "    }\n",
       "\n",
       "    .dataframe thead th {\n",
       "        text-align: right;\n",
       "    }\n",
       "</style>\n",
       "<table border=\"1\" class=\"dataframe\">\n",
       "  <thead>\n",
       "    <tr style=\"text-align: right;\">\n",
       "      <th></th>\n",
       "      <th>Date</th>\n",
       "      <th>Resting_HR</th>\n",
       "      <th>Highest_HR</th>\n",
       "    </tr>\n",
       "  </thead>\n",
       "  <tbody>\n",
       "    <tr>\n",
       "      <th>0</th>\n",
       "      <td>16 Avr.</td>\n",
       "      <td>52 bpm</td>\n",
       "      <td>69 bpm</td>\n",
       "    </tr>\n",
       "    <tr>\n",
       "      <th>1</th>\n",
       "      <td>15 Avr.</td>\n",
       "      <td>52 bpm</td>\n",
       "      <td>167 bpm</td>\n",
       "    </tr>\n",
       "    <tr>\n",
       "      <th>2</th>\n",
       "      <td>14 Avr.</td>\n",
       "      <td>61 bpm</td>\n",
       "      <td>142 bpm</td>\n",
       "    </tr>\n",
       "  </tbody>\n",
       "</table>\n",
       "</div>"
      ],
      "text/plain": [
       "      Date Resting_HR Highest_HR\n",
       "0  16 Avr.     52 bpm     69 bpm\n",
       "1  15 Avr.     52 bpm    167 bpm\n",
       "2  14 Avr.     61 bpm    142 bpm"
      ]
     },
     "execution_count": 216,
     "metadata": {},
     "output_type": "execute_result"
    }
   ],
   "source": [
    "# Import heart rate data and rename variables in english\n",
    "hr = pd.read_csv(\"Data/FC.csv\", sep=\";\", header=0, encoding=\"utf8\", na_values=\"--\")\n",
    "hr = hr.rename(columns={\"Repos\": \"Resting_HR\",\n",
    "                        \"Le plus haut\": \"Highest_HR\"})\n",
    "print(hr.shape)\n",
    "hr.head(3)"
   ]
  },
  {
   "cell_type": "code",
   "execution_count": 217,
   "metadata": {},
   "outputs": [
    {
     "name": "stdout",
     "output_type": "stream",
     "text": [
      "(504, 6)\n"
     ]
    },
    {
     "data": {
      "text/html": [
       "<div>\n",
       "<style scoped>\n",
       "    .dataframe tbody tr th:only-of-type {\n",
       "        vertical-align: middle;\n",
       "    }\n",
       "\n",
       "    .dataframe tbody tr th {\n",
       "        vertical-align: top;\n",
       "    }\n",
       "\n",
       "    .dataframe thead th {\n",
       "        text-align: right;\n",
       "    }\n",
       "</style>\n",
       "<table border=\"1\" class=\"dataframe\">\n",
       "  <thead>\n",
       "    <tr style=\"text-align: right;\">\n",
       "      <th></th>\n",
       "      <th>Date</th>\n",
       "      <th>Score</th>\n",
       "      <th>Quality</th>\n",
       "      <th>Sleep_duration</th>\n",
       "      <th>Bedtime</th>\n",
       "      <th>Waking_hour</th>\n",
       "    </tr>\n",
       "  </thead>\n",
       "  <tbody>\n",
       "    <tr>\n",
       "      <th>0</th>\n",
       "      <td>15 Avr.</td>\n",
       "      <td>89.0</td>\n",
       "      <td>Bon</td>\n",
       "      <td>8h 4min.</td>\n",
       "      <td>23:26</td>\n",
       "      <td>7:31</td>\n",
       "    </tr>\n",
       "    <tr>\n",
       "      <th>1</th>\n",
       "      <td>14 Avr.</td>\n",
       "      <td>41.0</td>\n",
       "      <td>Mauvais</td>\n",
       "      <td>7h 6min.</td>\n",
       "      <td>3:23</td>\n",
       "      <td>10:39</td>\n",
       "    </tr>\n",
       "    <tr>\n",
       "      <th>2</th>\n",
       "      <td>13 Avr.</td>\n",
       "      <td>74.0</td>\n",
       "      <td>Passable</td>\n",
       "      <td>8h 30min.</td>\n",
       "      <td>23:08</td>\n",
       "      <td>8:20</td>\n",
       "    </tr>\n",
       "  </tbody>\n",
       "</table>\n",
       "</div>"
      ],
      "text/plain": [
       "      Date  Score   Quality Sleep_duration Bedtime Waking_hour\n",
       "0  15 Avr.   89.0       Bon       8h 4min.   23:26        7:31\n",
       "1  14 Avr.   41.0   Mauvais       7h 6min.    3:23       10:39\n",
       "2  13 Avr.   74.0  Passable      8h 30min.   23:08        8:20"
      ]
     },
     "execution_count": 217,
     "metadata": {},
     "output_type": "execute_result"
    }
   ],
   "source": [
    "# Import sleep data and rename variables in english\n",
    "sleep = pd.read_csv(\"Data/Sommeil.csv\", sep=\",\", header=0, encoding=\"utf8\", na_values=\"--\")\n",
    "\n",
    "sleep_list = [pd.read_csv(f\"Data/Sommeil ({idx}).csv\", sep=\",\", header=0, encoding=\"utf8\", na_values=\"--\") for idx in range(1, 17+1)]\n",
    "sleep_list.insert(0, sleep) # Put the latest data at the beginning of the list\n",
    "\n",
    "sleep = pd.concat(sleep_list)\n",
    "sleep = sleep.rename(columns={\"Score de sommeil 4\\xa0semaines\": \"Date\",\n",
    "                              \"Fréquence cardiaque au repos\": \"Base_HR\",\n",
    "                              \"Statut de la variabilité de la fréquence cardiaque\": \"HRV\",\n",
    "                              \"Qualité\": \"Quality\",\n",
    "                              \"Durée\": \"Sleep_duration\",\n",
    "                              \"Heure de coucher\": \"Bedtime\",\n",
    "                              \"Heure de lever\": \"Waking_hour\"}).drop(columns=\"Oxymètre de pouls\")\n",
    "\n",
    "sleep = sleep[[\"Date\", \"Score\", \"Quality\", \"Sleep_duration\", \"Bedtime\", \"Waking_hour\"]]\n",
    "\n",
    "print(sleep.shape)\n",
    "sleep.head(3)\n"
   ]
  },
  {
   "cell_type": "markdown",
   "metadata": {},
   "source": [
    "## 2.1 Data preprocessing <a id=\"data_preprocessing\"></a>\n",
    "<a href=\"#table_contents\">Table of contents</a>"
   ]
  },
  {
   "cell_type": "markdown",
   "metadata": {},
   "source": [
    "### Activities dataset"
   ]
  },
  {
   "cell_type": "code",
   "execution_count": 218,
   "metadata": {},
   "outputs": [],
   "source": [
    "# Convert to datetime type the Date column\n",
    "activities['Date'] = pd.to_datetime(activities['Date']).dt.date\n",
    "activities['Date'] = pd.to_datetime(activities['Date']) # convert back to datetime64[ns] instead of float"
   ]
  },
  {
   "cell_type": "code",
   "execution_count": 219,
   "metadata": {},
   "outputs": [
    {
     "data": {
      "text/html": [
       "<div>\n",
       "<style scoped>\n",
       "    .dataframe tbody tr th:only-of-type {\n",
       "        vertical-align: middle;\n",
       "    }\n",
       "\n",
       "    .dataframe tbody tr th {\n",
       "        vertical-align: top;\n",
       "    }\n",
       "\n",
       "    .dataframe thead th {\n",
       "        text-align: right;\n",
       "    }\n",
       "</style>\n",
       "<table border=\"1\" class=\"dataframe\">\n",
       "  <thead>\n",
       "    <tr style=\"text-align: right;\">\n",
       "      <th></th>\n",
       "      <th>Type</th>\n",
       "      <th>Date</th>\n",
       "      <th>Activity_distance</th>\n",
       "      <th>Activity_calories</th>\n",
       "      <th>Duration</th>\n",
       "      <th>Activity_average_heart_rate</th>\n",
       "      <th>Activity_maximum_heart_rate</th>\n",
       "      <th>Aerobic_TE</th>\n",
       "      <th>Average_running_cadence</th>\n",
       "      <th>Maximum_running_cadence</th>\n",
       "      <th>Average_pace</th>\n",
       "      <th>Best_pace</th>\n",
       "      <th>Maximum_temperature</th>\n",
       "      <th>Activity_average_respiratory_frequency</th>\n",
       "      <th>Activity_minimum_respiratory_frequency</th>\n",
       "      <th>Activity_maximum_respiratory_frequency</th>\n",
       "      <th>Travel_time</th>\n",
       "      <th>Elapsed_time</th>\n",
       "      <th>Minimum_altitude</th>\n",
       "      <th>Maximum_altitude</th>\n",
       "    </tr>\n",
       "  </thead>\n",
       "  <tbody>\n",
       "    <tr>\n",
       "      <th>0</th>\n",
       "      <td>Course à pied</td>\n",
       "      <td>2024-05-09</td>\n",
       "      <td>9.45</td>\n",
       "      <td>720</td>\n",
       "      <td>00:49:25</td>\n",
       "      <td>162</td>\n",
       "      <td>193</td>\n",
       "      <td>3.9</td>\n",
       "      <td>161.0</td>\n",
       "      <td>172.0</td>\n",
       "      <td>5:14</td>\n",
       "      <td>3:58</td>\n",
       "      <td>29.0</td>\n",
       "      <td>33.0</td>\n",
       "      <td>19.0</td>\n",
       "      <td>42.0</td>\n",
       "      <td>00:48:16</td>\n",
       "      <td>00:49:25</td>\n",
       "      <td>34.0</td>\n",
       "      <td>53</td>\n",
       "    </tr>\n",
       "    <tr>\n",
       "      <th>1</th>\n",
       "      <td>Course à pied</td>\n",
       "      <td>2024-05-08</td>\n",
       "      <td>7.33</td>\n",
       "      <td>522</td>\n",
       "      <td>00:43:53</td>\n",
       "      <td>133</td>\n",
       "      <td>151</td>\n",
       "      <td>2.5</td>\n",
       "      <td>159.0</td>\n",
       "      <td>190.0</td>\n",
       "      <td>5:59</td>\n",
       "      <td>5:04</td>\n",
       "      <td>26.0</td>\n",
       "      <td>26.0</td>\n",
       "      <td>14.0</td>\n",
       "      <td>34.0</td>\n",
       "      <td>00:43:24</td>\n",
       "      <td>00:43:54</td>\n",
       "      <td>45.0</td>\n",
       "      <td>58</td>\n",
       "    </tr>\n",
       "    <tr>\n",
       "      <th>2</th>\n",
       "      <td>Course à pied</td>\n",
       "      <td>2024-05-07</td>\n",
       "      <td>1.44</td>\n",
       "      <td>106</td>\n",
       "      <td>00:07:15.2</td>\n",
       "      <td>148</td>\n",
       "      <td>174</td>\n",
       "      <td>2.1</td>\n",
       "      <td>162.0</td>\n",
       "      <td>221.0</td>\n",
       "      <td>5:03</td>\n",
       "      <td>3:55</td>\n",
       "      <td>26.0</td>\n",
       "      <td>NaN</td>\n",
       "      <td>NaN</td>\n",
       "      <td>NaN</td>\n",
       "      <td>00:06:55.3</td>\n",
       "      <td>00:07:15.2</td>\n",
       "      <td>41.0</td>\n",
       "      <td>52</td>\n",
       "    </tr>\n",
       "  </tbody>\n",
       "</table>\n",
       "</div>"
      ],
      "text/plain": [
       "            Type       Date Activity_distance Activity_calories    Duration  \\\n",
       "0  Course à pied 2024-05-09              9.45               720    00:49:25   \n",
       "1  Course à pied 2024-05-08              7.33               522    00:43:53   \n",
       "2  Course à pied 2024-05-07              1.44               106  00:07:15.2   \n",
       "\n",
       "   Activity_average_heart_rate  Activity_maximum_heart_rate  Aerobic_TE  \\\n",
       "0                          162                          193         3.9   \n",
       "1                          133                          151         2.5   \n",
       "2                          148                          174         2.1   \n",
       "\n",
       "   Average_running_cadence  Maximum_running_cadence Average_pace Best_pace  \\\n",
       "0                    161.0                    172.0         5:14      3:58   \n",
       "1                    159.0                    190.0         5:59      5:04   \n",
       "2                    162.0                    221.0         5:03      3:55   \n",
       "\n",
       "   Maximum_temperature  Activity_average_respiratory_frequency  \\\n",
       "0                 29.0                                    33.0   \n",
       "1                 26.0                                    26.0   \n",
       "2                 26.0                                     NaN   \n",
       "\n",
       "   Activity_minimum_respiratory_frequency  \\\n",
       "0                                    19.0   \n",
       "1                                    14.0   \n",
       "2                                     NaN   \n",
       "\n",
       "   Activity_maximum_respiratory_frequency Travel_time Elapsed_time  \\\n",
       "0                                    42.0    00:48:16     00:49:25   \n",
       "1                                    34.0    00:43:24     00:43:54   \n",
       "2                                     NaN  00:06:55.3   00:07:15.2   \n",
       "\n",
       "   Minimum_altitude Maximum_altitude  \n",
       "0              34.0               53  \n",
       "1              45.0               58  \n",
       "2              41.0               52  "
      ]
     },
     "execution_count": 219,
     "metadata": {},
     "output_type": "execute_result"
    }
   ],
   "source": [
    "activities.head(3)"
   ]
  },
  {
   "cell_type": "markdown",
   "metadata": {},
   "source": [
    "### Calories dataset"
   ]
  },
  {
   "cell_type": "code",
   "execution_count": 220,
   "metadata": {},
   "outputs": [],
   "source": [
    "month_dict = {\"jan.\": 1, \"fév.\": 2, \"mar.\": 3, \"avr.\": 4, \"mai\": 5, \"juin\": 6, \"juil\": 7, \"août\": 8, \"sep.\": 9, \"oct\": 10, \"nov.\": 11, \"déc.\": 12}"
   ]
  },
  {
   "cell_type": "code",
   "execution_count": 221,
   "metadata": {},
   "outputs": [],
   "source": [
    "def get_day(row, date_var, month_dict):\n",
    "    \"\"\" Retrieve the day of the Date variables in the dataframes \"\"\"\n",
    "\n",
    "    if len(row[date_var].split('-')) > 1:\n",
    "        splitted_date = row[date_var].split('-')\n",
    "        day = splitted_date[0].lstrip('0')\n",
    "        return day\n",
    "    else:\n",
    "        splitted_date = row[date_var].split(' ')\n",
    "        day = splitted_date[0]\n",
    "        return day\n",
    "    \n",
    "\n",
    "def get_month(row, date_var, month_dict):\n",
    "    \"\"\" Retrieve the month number of the Date variables in the dataframes \"\"\"\n",
    "    \n",
    "    if len(row[date_var].split('-')) > 1:\n",
    "        splitted_date = row[date_var].split('-')\n",
    "        month = month_dict[splitted_date[1].lower()]\n",
    "        return month\n",
    "    else:\n",
    "        splitted_date = row[date_var].split(' ')\n",
    "        month = month_dict[splitted_date[1].lower()]\n",
    "        return month\n",
    "    \n",
    "def new_date(row):\n",
    "    \"\"\" Use the newly created Year, Month and Day to create the new Date in Datetime64[ns] with format YYYY-MM-DD \"\"\"\n",
    "    \n",
    "    return pd.to_datetime(f\"{int(row['Year'])}-{str(row['Month']).zfill(2)}-{str(row['Day']).zfill(2)}\")"
   ]
  },
  {
   "cell_type": "code",
   "execution_count": 222,
   "metadata": {},
   "outputs": [],
   "source": [
    "# Initiailize columns\n",
    "calories['Day'] = np.zeros(calories.shape[0])\n",
    "calories['Month'] = np.zeros(calories.shape[0])\n",
    "calories['Year'] = np.zeros(calories.shape[0])\n",
    "\n",
    "calories['Day'] = calories.apply(lambda row: get_day(row, 'Date', month_dict), axis=1)\n",
    "calories['Month'] = calories.apply(lambda row: get_month(row, 'Date', month_dict), axis=1)\n",
    "# Manually set the years \n",
    "calories.loc[467:, 'Year'] = 2022\n",
    "calories.loc[:102, 'Year'] = 2024\n",
    "\n",
    "calories['Year'] = np.where(calories['Year'] == 0, 2023, calories['Year'])\n",
    "calories[\"Date\"] = calories.apply(lambda row: new_date(row), axis=1)\n",
    "\n",
    "calories = calories.drop(columns=['Day', 'Month', 'Year'])"
   ]
  },
  {
   "cell_type": "code",
   "execution_count": 223,
   "metadata": {},
   "outputs": [
    {
     "data": {
      "text/html": [
       "<div>\n",
       "<style scoped>\n",
       "    .dataframe tbody tr th:only-of-type {\n",
       "        vertical-align: middle;\n",
       "    }\n",
       "\n",
       "    .dataframe tbody tr th {\n",
       "        vertical-align: top;\n",
       "    }\n",
       "\n",
       "    .dataframe thead th {\n",
       "        text-align: right;\n",
       "    }\n",
       "</style>\n",
       "<table border=\"1\" class=\"dataframe\">\n",
       "  <thead>\n",
       "    <tr style=\"text-align: right;\">\n",
       "      <th></th>\n",
       "      <th>Date</th>\n",
       "      <th>Active_calories</th>\n",
       "      <th>Resting_calories</th>\n",
       "      <th>Total_calories</th>\n",
       "    </tr>\n",
       "  </thead>\n",
       "  <tbody>\n",
       "    <tr>\n",
       "      <th>0</th>\n",
       "      <td>2024-04-15</td>\n",
       "      <td>772</td>\n",
       "      <td>1,837</td>\n",
       "      <td>2,609</td>\n",
       "    </tr>\n",
       "    <tr>\n",
       "      <th>1</th>\n",
       "      <td>2024-04-14</td>\n",
       "      <td>1,491</td>\n",
       "      <td>2,187</td>\n",
       "      <td>3,678</td>\n",
       "    </tr>\n",
       "    <tr>\n",
       "      <th>2</th>\n",
       "      <td>2024-04-13</td>\n",
       "      <td>620</td>\n",
       "      <td>2,187</td>\n",
       "      <td>2,807</td>\n",
       "    </tr>\n",
       "  </tbody>\n",
       "</table>\n",
       "</div>"
      ],
      "text/plain": [
       "        Date Active_calories Resting_calories Total_calories\n",
       "0 2024-04-15             772            1,837          2,609\n",
       "1 2024-04-14           1,491            2,187          3,678\n",
       "2 2024-04-13             620            2,187          2,807"
      ]
     },
     "execution_count": 223,
     "metadata": {},
     "output_type": "execute_result"
    }
   ],
   "source": [
    "calories.head(3)"
   ]
  },
  {
   "cell_type": "markdown",
   "metadata": {},
   "source": [
    "### HR Dataset"
   ]
  },
  {
   "cell_type": "code",
   "execution_count": 224,
   "metadata": {},
   "outputs": [],
   "source": [
    "# Initiailize columns\n",
    "hr['Day'] = np.zeros(hr.shape[0])\n",
    "hr['Month'] = np.zeros(hr.shape[0])\n",
    "hr['Year'] = np.zeros(hr.shape[0])\n",
    "\n",
    "# Manually set the years\n",
    "hr.loc[451:, 'Year'] = 2022\n",
    "hr.loc[:99, 'Year'] = 2024\n",
    "hr['Year'] = np.where(hr['Year'] == 0, 2023, hr['Year'])\n",
    "\n",
    "hr['Month'] = hr.apply(lambda row: get_month(row, 'Date', month_dict), axis=1)\n",
    "hr['Day'] = hr.apply(lambda row: get_day(row, 'Date', month_dict), axis=1)\n",
    "\n",
    "# Create the new date variable\n",
    "hr[\"Date\"] = hr.apply(lambda row: new_date(row), axis=1)\n",
    "\n",
    "hr = hr.drop(columns=['Day', 'Month', 'Year'])"
   ]
  },
  {
   "cell_type": "code",
   "execution_count": 225,
   "metadata": {},
   "outputs": [
    {
     "data": {
      "text/html": [
       "<div>\n",
       "<style scoped>\n",
       "    .dataframe tbody tr th:only-of-type {\n",
       "        vertical-align: middle;\n",
       "    }\n",
       "\n",
       "    .dataframe tbody tr th {\n",
       "        vertical-align: top;\n",
       "    }\n",
       "\n",
       "    .dataframe thead th {\n",
       "        text-align: right;\n",
       "    }\n",
       "</style>\n",
       "<table border=\"1\" class=\"dataframe\">\n",
       "  <thead>\n",
       "    <tr style=\"text-align: right;\">\n",
       "      <th></th>\n",
       "      <th>Date</th>\n",
       "      <th>Resting_HR</th>\n",
       "      <th>Highest_HR</th>\n",
       "    </tr>\n",
       "  </thead>\n",
       "  <tbody>\n",
       "    <tr>\n",
       "      <th>0</th>\n",
       "      <td>2024-04-16</td>\n",
       "      <td>52 bpm</td>\n",
       "      <td>69 bpm</td>\n",
       "    </tr>\n",
       "    <tr>\n",
       "      <th>1</th>\n",
       "      <td>2024-04-15</td>\n",
       "      <td>52 bpm</td>\n",
       "      <td>167 bpm</td>\n",
       "    </tr>\n",
       "    <tr>\n",
       "      <th>2</th>\n",
       "      <td>2024-04-14</td>\n",
       "      <td>61 bpm</td>\n",
       "      <td>142 bpm</td>\n",
       "    </tr>\n",
       "  </tbody>\n",
       "</table>\n",
       "</div>"
      ],
      "text/plain": [
       "        Date Resting_HR Highest_HR\n",
       "0 2024-04-16     52 bpm     69 bpm\n",
       "1 2024-04-15     52 bpm    167 bpm\n",
       "2 2024-04-14     61 bpm    142 bpm"
      ]
     },
     "execution_count": 225,
     "metadata": {},
     "output_type": "execute_result"
    }
   ],
   "source": [
    "hr.head(3)"
   ]
  },
  {
   "cell_type": "markdown",
   "metadata": {},
   "source": [
    "### Sleep dataset"
   ]
  },
  {
   "cell_type": "code",
   "execution_count": 226,
   "metadata": {},
   "outputs": [],
   "source": [
    "# The first 15 days the watch didn't record any score\n",
    "sleep = sleep.reset_index(drop=True).loc[:len(sleep)-15, :] \n",
    "\n",
    "# We remove rows where we don't have a sleeping score as we won't be able to use them further.\n",
    "sleep = sleep.loc[sleep['Score'].notna(), :].reset_index(drop=True)"
   ]
  },
  {
   "cell_type": "code",
   "execution_count": 227,
   "metadata": {},
   "outputs": [],
   "source": [
    "# Create 3 new columns that receive Day, Month and Year of the Date column\n",
    "sleep['Day'] = np.zeros(sleep.shape[0])\n",
    "sleep['Month'] = np.zeros(sleep.shape[0])\n",
    "sleep['Year'] = np.zeros(sleep.shape[0])\n",
    "\n",
    "sleep.loc[:87, 'Year'] = 2024\n",
    "sleep.loc[389:, 'Year'] = 2022\n",
    "\n",
    "# If year is still 0 then it is 2023\n",
    "sleep['Year'] = np.where(sleep['Year'] == 0, 2023, sleep['Year'])\n",
    "\n",
    "# Retrieve Month and Day from the Date\n",
    "sleep['Month'] = sleep.apply(lambda row: get_month(row, 'Date', month_dict), axis=1)\n",
    "sleep['Day'] = sleep.apply(lambda row: get_day(row, 'Date', month_dict), axis=1)\n",
    "\n",
    "# Convert Date to the wanted datetime format\n",
    "sleep[\"Date\"] = sleep.apply(lambda row: new_date(row), axis=1)\n"
   ]
  },
  {
   "cell_type": "code",
   "execution_count": 228,
   "metadata": {},
   "outputs": [],
   "source": [
    "# sleeping score for a day correspond do the night from day-1 to day.\n",
    "# Night of 15th of April is a result of activities of 14th of April\n",
    "# So to compare effects of activities of the day we have to substract one day to every sleep data\n",
    "sleep['Date'] = sleep['Date'] - pd.Timedelta(days=1)\n",
    "\n",
    "sleep = sleep.drop(columns=['Day', 'Month', 'Year'])"
   ]
  },
  {
   "cell_type": "markdown",
   "metadata": {},
   "source": [
    "## 2.2 Merged dataframes <a id='merged_dataframes'></a>\n",
    "<a href=\"#table_contents\">Table of contents</a>"
   ]
  },
  {
   "cell_type": "code",
   "execution_count": 229,
   "metadata": {},
   "outputs": [],
   "source": [
    "merged_1 = pd.merge(sleep, activities, how='left', on='Date')\n",
    "merged_2 = pd.merge(merged_1, hr, how='left', on='Date')\n",
    "df_merged = pd.merge(merged_2, calories, how='left', on='Date').drop(columns=['Resting_HR'])"
   ]
  },
  {
   "cell_type": "code",
   "execution_count": 230,
   "metadata": {},
   "outputs": [
    {
     "data": {
      "text/html": [
       "<div>\n",
       "<style scoped>\n",
       "    .dataframe tbody tr th:only-of-type {\n",
       "        vertical-align: middle;\n",
       "    }\n",
       "\n",
       "    .dataframe tbody tr th {\n",
       "        vertical-align: top;\n",
       "    }\n",
       "\n",
       "    .dataframe thead th {\n",
       "        text-align: right;\n",
       "    }\n",
       "</style>\n",
       "<table border=\"1\" class=\"dataframe\">\n",
       "  <thead>\n",
       "    <tr style=\"text-align: right;\">\n",
       "      <th></th>\n",
       "      <th>Date</th>\n",
       "      <th>Score</th>\n",
       "      <th>Quality</th>\n",
       "      <th>Sleep_duration</th>\n",
       "      <th>Bedtime</th>\n",
       "      <th>Waking_hour</th>\n",
       "      <th>Type</th>\n",
       "      <th>Activity_distance</th>\n",
       "      <th>Activity_calories</th>\n",
       "      <th>Duration</th>\n",
       "      <th>...</th>\n",
       "      <th>Activity_minimum_respiratory_frequency</th>\n",
       "      <th>Activity_maximum_respiratory_frequency</th>\n",
       "      <th>Travel_time</th>\n",
       "      <th>Elapsed_time</th>\n",
       "      <th>Minimum_altitude</th>\n",
       "      <th>Maximum_altitude</th>\n",
       "      <th>Highest_HR</th>\n",
       "      <th>Active_calories</th>\n",
       "      <th>Resting_calories</th>\n",
       "      <th>Total_calories</th>\n",
       "    </tr>\n",
       "  </thead>\n",
       "  <tbody>\n",
       "    <tr>\n",
       "      <th>0</th>\n",
       "      <td>2024-04-14</td>\n",
       "      <td>89.0</td>\n",
       "      <td>Bon</td>\n",
       "      <td>8h 4min.</td>\n",
       "      <td>23:26</td>\n",
       "      <td>7:31</td>\n",
       "      <td>NaN</td>\n",
       "      <td>NaN</td>\n",
       "      <td>NaN</td>\n",
       "      <td>NaN</td>\n",
       "      <td>...</td>\n",
       "      <td>NaN</td>\n",
       "      <td>NaN</td>\n",
       "      <td>NaN</td>\n",
       "      <td>NaN</td>\n",
       "      <td>NaN</td>\n",
       "      <td>NaN</td>\n",
       "      <td>142 bpm</td>\n",
       "      <td>1,491</td>\n",
       "      <td>2,187</td>\n",
       "      <td>3,678</td>\n",
       "    </tr>\n",
       "    <tr>\n",
       "      <th>1</th>\n",
       "      <td>2024-04-13</td>\n",
       "      <td>41.0</td>\n",
       "      <td>Mauvais</td>\n",
       "      <td>7h 6min.</td>\n",
       "      <td>3:23</td>\n",
       "      <td>10:39</td>\n",
       "      <td>NaN</td>\n",
       "      <td>NaN</td>\n",
       "      <td>NaN</td>\n",
       "      <td>NaN</td>\n",
       "      <td>...</td>\n",
       "      <td>NaN</td>\n",
       "      <td>NaN</td>\n",
       "      <td>NaN</td>\n",
       "      <td>NaN</td>\n",
       "      <td>NaN</td>\n",
       "      <td>NaN</td>\n",
       "      <td>126 bpm</td>\n",
       "      <td>620</td>\n",
       "      <td>2,187</td>\n",
       "      <td>2,807</td>\n",
       "    </tr>\n",
       "    <tr>\n",
       "      <th>2</th>\n",
       "      <td>2024-04-12</td>\n",
       "      <td>74.0</td>\n",
       "      <td>Passable</td>\n",
       "      <td>8h 30min.</td>\n",
       "      <td>23:08</td>\n",
       "      <td>8:20</td>\n",
       "      <td>Course à pied</td>\n",
       "      <td>3.00</td>\n",
       "      <td>217</td>\n",
       "      <td>00:20:28</td>\n",
       "      <td>...</td>\n",
       "      <td>NaN</td>\n",
       "      <td>NaN</td>\n",
       "      <td>00:20:03</td>\n",
       "      <td>00:20:28</td>\n",
       "      <td>40.0</td>\n",
       "      <td>52</td>\n",
       "      <td>152 bpm</td>\n",
       "      <td>607</td>\n",
       "      <td>2,187</td>\n",
       "      <td>2,794</td>\n",
       "    </tr>\n",
       "  </tbody>\n",
       "</table>\n",
       "<p>3 rows × 29 columns</p>\n",
       "</div>"
      ],
      "text/plain": [
       "        Date  Score   Quality Sleep_duration Bedtime Waking_hour  \\\n",
       "0 2024-04-14   89.0       Bon       8h 4min.   23:26        7:31   \n",
       "1 2024-04-13   41.0   Mauvais       7h 6min.    3:23       10:39   \n",
       "2 2024-04-12   74.0  Passable      8h 30min.   23:08        8:20   \n",
       "\n",
       "            Type Activity_distance Activity_calories  Duration  ...  \\\n",
       "0            NaN               NaN               NaN       NaN  ...   \n",
       "1            NaN               NaN               NaN       NaN  ...   \n",
       "2  Course à pied              3.00               217  00:20:28  ...   \n",
       "\n",
       "   Activity_minimum_respiratory_frequency  \\\n",
       "0                                     NaN   \n",
       "1                                     NaN   \n",
       "2                                     NaN   \n",
       "\n",
       "   Activity_maximum_respiratory_frequency  Travel_time  Elapsed_time  \\\n",
       "0                                     NaN          NaN           NaN   \n",
       "1                                     NaN          NaN           NaN   \n",
       "2                                     NaN     00:20:03      00:20:28   \n",
       "\n",
       "   Minimum_altitude Maximum_altitude Highest_HR  Active_calories  \\\n",
       "0               NaN              NaN    142 bpm            1,491   \n",
       "1               NaN              NaN    126 bpm              620   \n",
       "2              40.0               52    152 bpm              607   \n",
       "\n",
       "   Resting_calories  Total_calories  \n",
       "0             2,187           3,678  \n",
       "1             2,187           2,807  \n",
       "2             2,187           2,794  \n",
       "\n",
       "[3 rows x 29 columns]"
      ]
     },
     "execution_count": 230,
     "metadata": {},
     "output_type": "execute_result"
    }
   ],
   "source": [
    "df_merged.head(3)"
   ]
  },
  {
   "cell_type": "code",
   "execution_count": 231,
   "metadata": {},
   "outputs": [
    {
     "name": "stdout",
     "output_type": "stream",
     "text": [
      "Quality missing values : 0.0\n"
     ]
    }
   ],
   "source": [
    "# Label Encoding on quality\n",
    "print(f\"Quality missing values : {df_merged['Quality'].isnull().mean()}\")\n",
    "\n",
    "qualities = [['Mauvais', 'Passable', 'Bon', 'Excellent']]\n",
    "\n",
    "quality_OE = OrdinalEncoder(categories=qualities)\n",
    "quality_OE.fit(np.array(df_merged['Quality']).reshape(-1, 1))\n",
    "\n",
    "df_merged['Quality'] = quality_OE.transform(np.array(df_merged['Quality']).reshape(-1, 1))"
   ]
  },
  {
   "cell_type": "code",
   "execution_count": 232,
   "metadata": {},
   "outputs": [
    {
     "name": "stdout",
     "output_type": "stream",
     "text": [
      "Mauvais : 0.0\n",
      "Passable : 1.0\n",
      "Bon : 2.0\n",
      "Excellent : 3.0\n"
     ]
    }
   ],
   "source": [
    "for qual, number in zip(quality_OE.categories_[0] ,quality_OE.transform(np.array(quality_OE.categories_).reshape(-1, 1))):\n",
    "    print(f\"{qual} : {number[0]}\")"
   ]
  },
  {
   "cell_type": "code",
   "execution_count": 233,
   "metadata": {},
   "outputs": [],
   "source": [
    "def sleep_duration_in_hours_minutes(row):\n",
    "    \"\"\" Convert sleep duration from xh ymin. to hours,minutes \"\"\"\n",
    "\n",
    "    if not isinstance(row['Sleep_duration'], (int, float)):\n",
    "        h, minutes = row['Sleep_duration'].split(' ')\n",
    "        return float(h.strip('h')) + float(minutes.strip('min.')) / 60\n",
    "\n",
    "def bed_related_to_minutes(row, bed_col):\n",
    "    \"\"\" Convert bed related columns from hh:mm to hours,minutes \"\"\"\n",
    "    \n",
    "    if not isinstance(row[bed_col], float):\n",
    "        h, minutes = row[bed_col].split(':')\n",
    "        return float(h) + float(minutes) / 60"
   ]
  },
  {
   "cell_type": "code",
   "execution_count": 234,
   "metadata": {},
   "outputs": [
    {
     "name": "stdout",
     "output_type": "stream",
     "text": [
      "Sleep duration missing values : 0.0\n",
      "Bedtime missing values : 0.0\n"
     ]
    }
   ],
   "source": [
    "# Convert sleep duration in minutes\n",
    "print(f\"Sleep duration missing values : {df_merged['Sleep_duration'].isnull().mean()}\")\n",
    "\n",
    "df_merged['Sleep_duration'] = df_merged.apply(lambda row: sleep_duration_in_hours_minutes(row), axis=1)\n",
    "\n",
    "# Remove rows where Bedtime is NaN, as we further compute a sleeping duration variable\n",
    "df_merged = df_merged.loc[df_merged['Bedtime'].notna()].reset_index(drop=True)\n",
    "print(f\"Bedtime missing values : {df_merged['Bedtime'].isnull().mean()}\")\n",
    "\n",
    "df_merged['Bedtime'] = df_merged.apply(lambda row: bed_related_to_minutes(row, 'Bedtime'), axis=1)\n",
    "df_merged['Waking_hour'] = df_merged.apply(lambda row: bed_related_to_minutes(row, 'Waking_hour'), axis=1)"
   ]
  },
  {
   "cell_type": "code",
   "execution_count": 235,
   "metadata": {},
   "outputs": [],
   "source": [
    "# Initialize the new Awake time variable\n",
    "df_merged['Awake_time'] = np.NaN\n",
    "\n",
    "# Calculate the awake time be computing the difference between the Waking_hour of day d-1 and the bedtime of day d\n",
    "for i in range(1, len(df_merged)):\n",
    "    waking_prev_day = df_merged.at[i-1, 'Waking_hour']\n",
    "    bedtime_curr_day = df_merged.at[i, 'Bedtime']\n",
    "    # If the bedtime is after midnight we add 24\n",
    "    if 0 < bedtime_curr_day < 10:\n",
    "        bedtime_curr_day += 24\n",
    "    df_merged.at[i, 'Awake_time'] = np.abs(waking_prev_day - bedtime_curr_day)\n",
    "\n",
    "df_merged['Awake_time'] = np.where(pd.isna(df_merged['Awake_time']), df_merged['Awake_time'].mean(), df_merged['Awake_time'])"
   ]
  },
  {
   "cell_type": "code",
   "execution_count": 236,
   "metadata": {},
   "outputs": [],
   "source": [
    "# Type selections and label encoding\n",
    "df_merged['Type'] = np.where(pd.isna(df_merged['Type']), 'No_activities', df_merged['Type'])\n",
    "type_part = df_merged['Type'].value_counts(dropna=False).reset_index()"
   ]
  },
  {
   "cell_type": "code",
   "execution_count": 237,
   "metadata": {},
   "outputs": [
    {
     "data": {
      "text/html": [
       "<div>\n",
       "<style scoped>\n",
       "    .dataframe tbody tr th:only-of-type {\n",
       "        vertical-align: middle;\n",
       "    }\n",
       "\n",
       "    .dataframe tbody tr th {\n",
       "        vertical-align: top;\n",
       "    }\n",
       "\n",
       "    .dataframe thead th {\n",
       "        text-align: right;\n",
       "    }\n",
       "</style>\n",
       "<table border=\"1\" class=\"dataframe\">\n",
       "  <thead>\n",
       "    <tr style=\"text-align: right;\">\n",
       "      <th></th>\n",
       "      <th>Type</th>\n",
       "      <th>count</th>\n",
       "    </tr>\n",
       "  </thead>\n",
       "  <tbody>\n",
       "    <tr>\n",
       "      <th>0</th>\n",
       "      <td>Course à pied</td>\n",
       "      <td>234</td>\n",
       "    </tr>\n",
       "    <tr>\n",
       "      <th>1</th>\n",
       "      <td>No_activities</td>\n",
       "      <td>184</td>\n",
       "    </tr>\n",
       "    <tr>\n",
       "      <th>2</th>\n",
       "      <td>Cyclisme</td>\n",
       "      <td>17</td>\n",
       "    </tr>\n",
       "    <tr>\n",
       "      <th>3</th>\n",
       "      <td>Musculation</td>\n",
       "      <td>14</td>\n",
       "    </tr>\n",
       "    <tr>\n",
       "      <th>4</th>\n",
       "      <td>Nat. piscine</td>\n",
       "      <td>7</td>\n",
       "    </tr>\n",
       "    <tr>\n",
       "      <th>5</th>\n",
       "      <td>Marche à pied</td>\n",
       "      <td>4</td>\n",
       "    </tr>\n",
       "    <tr>\n",
       "      <th>6</th>\n",
       "      <td>Rameur d'intérieur</td>\n",
       "      <td>1</td>\n",
       "    </tr>\n",
       "    <tr>\n",
       "      <th>7</th>\n",
       "      <td>Randonnée</td>\n",
       "      <td>1</td>\n",
       "    </tr>\n",
       "  </tbody>\n",
       "</table>\n",
       "</div>"
      ],
      "text/plain": [
       "                 Type  count\n",
       "0       Course à pied    234\n",
       "1       No_activities    184\n",
       "2            Cyclisme     17\n",
       "3         Musculation     14\n",
       "4        Nat. piscine      7\n",
       "5       Marche à pied      4\n",
       "6  Rameur d'intérieur      1\n",
       "7           Randonnée      1"
      ]
     },
     "execution_count": 237,
     "metadata": {},
     "output_type": "execute_result"
    }
   ],
   "source": [
    "type_part"
   ]
  },
  {
   "cell_type": "code",
   "execution_count": 238,
   "metadata": {},
   "outputs": [
    {
     "name": "stderr",
     "output_type": "stream",
     "text": [
      "C:\\Users\\flori\\AppData\\Local\\Temp\\ipykernel_35080\\3626716656.py:2: FutureWarning: \n",
      "\n",
      "Passing `palette` without assigning `hue` is deprecated and will be removed in v0.14.0. Assign the `x` variable to `hue` and set `legend=False` for the same effect.\n",
      "\n",
      "  bars = sns.barplot(data=type_part, x='Type', y='count', edgecolor='black', palette='deep')\n"
     ]
    },
    {
     "data": {
      "image/png": "[encoded data removed]",
      "text/plain": [
       "<Figure size 1200x600 with 1 Axes>"
      ]
     },
     "metadata": {},
     "output_type": "display_data"
    }
   ],
   "source": [
    "plt.figure(figsize=(12, 6))\n",
    "bars = sns.barplot(data=type_part, x='Type', y='count', edgecolor='black', palette='deep')\n",
    "plt.title(\"Activity type repartition\")\n",
    "plt.xlabel(\"Activity type\")\n",
    "plt.ylabel(\"Count\")\n",
    "\n",
    "for bar in bars.patches:\n",
    "    height = bar.get_height()\n",
    "    bars.text(\n",
    "        bar.get_x() + bar.get_width() / 2.0,\n",
    "        height,\n",
    "        f'{int(height)}',\n",
    "        ha='center',\n",
    "        va='bottom'\n",
    "    )\n",
    "\n",
    "plt.show()"
   ]
  },
  {
   "cell_type": "markdown",
   "metadata": {},
   "source": [
    "Using the graph above, I choose to delete the following activities as they have too few occurrences: Walking, Indoor Rowing and Hiking.\n",
    "\n",
    "I replace them with “No_activities”. "
   ]
  },
  {
   "cell_type": "code",
   "execution_count": 239,
   "metadata": {},
   "outputs": [],
   "source": [
    "to_remplace_types = [\"Marche à pied\", \"Rameur d'intérieur\", \"Randonnée\"]\n",
    "\n",
    "df_merged['Type'] = np.where(df_merged['Type'].isin(to_remplace_types), 'No_activities', df_merged['Type'])"
   ]
  },
  {
   "cell_type": "code",
   "execution_count": 240,
   "metadata": {},
   "outputs": [],
   "source": [
    "def convert_distance(row):\n",
    "    \"\"\" Convert distance from string to float, with a results expressed in km \"\"\"\n",
    "    \n",
    "    if row['Activity_distance'] != 0:\n",
    "        # If activity is swimming and less than 1km were swimmed\n",
    "        if row['Type'] == 'Nat. piscine' and not \",\" in row['Activity_distance']:\n",
    "            return float(row['Activity_distance']) / 1000\n",
    "        \n",
    "        if \",\" in row['Activity_distance']:\n",
    "            return float(row['Activity_distance'].replace(\",\", \".\"))\n",
    "        \n",
    "        return float(row['Activity_distance'])\n",
    "    return 0"
   ]
  },
  {
   "cell_type": "code",
   "execution_count": 241,
   "metadata": {},
   "outputs": [
    {
     "name": "stdout",
     "output_type": "stream",
     "text": [
      "Activity distance missing values : 0.0\n"
     ]
    }
   ],
   "source": [
    "# Replace missing values by 0\n",
    "df_merged['Activity_distance'] = np.where(pd.isna(df_merged['Activity_distance']), 0, df_merged['Activity_distance'])\n",
    "\n",
    "df_merged['Activity_distance'] = df_merged.apply(lambda row: convert_distance(row), axis=1)\n",
    "\n",
    "print(f\"Activity distance missing values : {df_merged['Activity_distance'].isnull().mean()}\")"
   ]
  },
  {
   "cell_type": "code",
   "execution_count": 242,
   "metadata": {},
   "outputs": [],
   "source": [
    "def convert_calories(row, cal_var):\n",
    "    \"\"\" Convert calories to integers \"\"\"\n",
    "    \n",
    "    if not pd.isna(row[cal_var]) and not isinstance(row[cal_var], (float, int)):\n",
    "        # handles cases where the calories finish by a 0 and the 0 is therefore truncated\n",
    "        # So we have to append 0 at the end while the calories is not format 1,234\n",
    "        if \",\" in row[cal_var] and len(row[cal_var]) != 5:\n",
    "            while len(row[cal_var]) < 5:\n",
    "                row[cal_var] += '0'\n",
    "\n",
    "        # if there is a coma in calories meaning that it is greater than 1 000 then we delete\n",
    "        # the coma. In the case where calories < 1000 where there's no coma, it's still transformed in integer\n",
    "        return int(row[cal_var].replace(\",\", \"\"))\n",
    "    \n",
    "    return 0"
   ]
  },
  {
   "cell_type": "code",
   "execution_count": 243,
   "metadata": {},
   "outputs": [
    {
     "name": "stdout",
     "output_type": "stream",
     "text": [
      "Activity_calories missing values : 0.0\n",
      "Active_calories missing values : 0.0\n",
      "Resting_calories missing values : 0.0\n",
      "Total_calories missing values : 0.0\n"
     ]
    }
   ],
   "source": [
    "calories_cols = ['Activity_calories', 'Active_calories', 'Resting_calories', 'Total_calories']  \n",
    "\n",
    "# Replace by 0 rows where there is no activity and therefore no activity calories\n",
    "df_merged['Activity_calories'] = np.where(pd.isna(df_merged['Activity_calories']), 0, df_merged['Activity_calories'])\n",
    "\n",
    "for col in calories_cols:\n",
    "    df_merged[col] = df_merged.apply(lambda row: convert_calories(row, col), axis=1)\n",
    "    print(f\"{col} missing values : {df_merged[col].isnull().mean()}\")\n",
    "\n",
    "# Handle cases where total calories is perfectly round like 3000\n",
    "df_merged['Total_calories'] = np.where(df_merged['Total_calories'] <= 9, df_merged['Total_calories'] * 1000, df_merged['Total_calories'])"
   ]
  },
  {
   "cell_type": "code",
   "execution_count": 244,
   "metadata": {},
   "outputs": [],
   "source": [
    "def durations_to_minutes(row, duration_var):\n",
    "    \"\"\" Convert columns that represents a duration in minutes \"\"\"\n",
    "    \n",
    "    if not pd.isna(row[duration_var]):\n",
    "        h, m, s = row[duration_var].split(':')\n",
    "        return int(h) * 60 + int(m) + float(s) / 60\n",
    "    return 0"
   ]
  },
  {
   "cell_type": "code",
   "execution_count": 245,
   "metadata": {},
   "outputs": [
    {
     "name": "stdout",
     "output_type": "stream",
     "text": [
      "Duration missing values : 0.0\n",
      "Travel_time missing values : 0.0\n",
      "Elapsed_time missing values : 0.0\n"
     ]
    }
   ],
   "source": [
    "durations_cols = ['Duration', 'Travel_time', 'Elapsed_time']\n",
    "\n",
    "for col in durations_cols:\n",
    "    df_merged[col] = df_merged.apply(lambda row: durations_to_minutes(row, col), axis=1)\n",
    "    print(f\"{col} missing values : {df_merged[col].isnull().mean()}\")"
   ]
  },
  {
   "cell_type": "code",
   "execution_count": 246,
   "metadata": {},
   "outputs": [],
   "source": [
    "def pace_to_minutes_pace(row, pace_col):\n",
    "    \"\"\" Convert pace to minutes,seconds / km \"\"\"\n",
    "\n",
    "    if not pd.isna(row[pace_col]):\n",
    "        # For cycling the pace is expressed as km/h\n",
    "        if row['Type'] == 'Cyclisme':\n",
    "            return 60 / float(row[pace_col])\n",
    "        \n",
    "        # For swimming the pace is expressed as mm:ss / 100m\n",
    "        elif row['Type'] == 'Nat. piscine':\n",
    "            m, s = row[pace_col].split(':')\n",
    "            return (int(m) + float(s) / 60) * 10\n",
    "\n",
    "        else:\n",
    "            m, s = row[pace_col].split(':')\n",
    "            return int(m) + float(s) / 60\n",
    "            \n",
    "    return 0"
   ]
  },
  {
   "cell_type": "code",
   "execution_count": 247,
   "metadata": {},
   "outputs": [],
   "source": [
    "pace_cols = ['Average_pace', 'Best_pace']\n",
    "\n",
    "for col in pace_cols:\n",
    "    df_merged[col] = df_merged.apply(lambda row: pace_to_minutes_pace(row, col), axis=1)"
   ]
  },
  {
   "cell_type": "code",
   "execution_count": 248,
   "metadata": {},
   "outputs": [],
   "source": [
    "def convert_altitude(row):\n",
    "    \"\"\" Convert altitude to integers \"\"\"\n",
    "\n",
    "    if not pd.isna(row['Maximum_altitude']):\n",
    "        # Sometimes the watch records surprising altitude data, so we replace them by 0\n",
    "        if int(row['Maximum_altitude'].replace(\",\", \"\")) < 0 or int(row['Maximum_altitude'].replace(\",\", \"\")) > 500:\n",
    "            return 0\n",
    "        \n",
    "        else:\n",
    "            return int(row['Maximum_altitude'])\n",
    "        \n",
    "    return 0"
   ]
  },
  {
   "cell_type": "code",
   "execution_count": 249,
   "metadata": {},
   "outputs": [
    {
     "name": "stdout",
     "output_type": "stream",
     "text": [
      "Maximum_altitude missing values : 0.0\n"
     ]
    }
   ],
   "source": [
    "# Convert altitude\n",
    "df_merged['Maximum_altitude'] = df_merged.apply(lambda row: convert_altitude(row), axis=1)\n",
    "print(f\"Maximum_altitude missing values : {df_merged['Maximum_altitude'].isnull().mean()}\")"
   ]
  },
  {
   "cell_type": "code",
   "execution_count": 250,
   "metadata": {},
   "outputs": [],
   "source": [
    "def convert_HR(row, hr_col):\n",
    "    \"\"\" Convert heart rate related columns to integers \"\"\"\n",
    "    \n",
    "    if not pd.isna(row[hr_col]):\n",
    "\n",
    "        return int(row[hr_col].strip(\" bpm\"))"
   ]
  },
  {
   "cell_type": "code",
   "execution_count": 251,
   "metadata": {},
   "outputs": [
    {
     "name": "stdout",
     "output_type": "stream",
     "text": [
      "Highest_HR missing values : 0.0021645021645021645\n"
     ]
    }
   ],
   "source": [
    "hr_columns = ['Highest_HR']\n",
    "\n",
    "for col in hr_columns:\n",
    "    df_merged[col] = df_merged.apply(lambda row: convert_HR(row, col), axis=1)\n",
    "    print(f\"{col} missing values : {df_merged[col].isnull().mean()}\")"
   ]
  },
  {
   "cell_type": "code",
   "execution_count": 252,
   "metadata": {},
   "outputs": [
    {
     "data": {
      "text/plain": [
       "461    157.0\n",
       "Name: Activity_maximum_heart_rate, dtype: float64"
      ]
     },
     "execution_count": 252,
     "metadata": {},
     "output_type": "execute_result"
    }
   ],
   "source": [
    "# Look for the missing value, if there is a maximum heart rate recorder during an activity\n",
    "df_merged.loc[df_merged['Highest_HR'].isna(), 'Activity_maximum_heart_rate']"
   ]
  },
  {
   "cell_type": "code",
   "execution_count": 253,
   "metadata": {},
   "outputs": [],
   "source": [
    "# Replace the missing value with the maximum heart rate for the activity\n",
    "df_merged['Highest_HR'] = np.where(pd.isna(df_merged['Highest_HR']), df_merged['Activity_maximum_heart_rate'], df_merged['Highest_HR'])"
   ]
  },
  {
   "cell_type": "code",
   "execution_count": 254,
   "metadata": {},
   "outputs": [],
   "source": [
    "# Where there is no activity and therefore no aerobic TE, we replace NaN by 0\n",
    "df_merged['Aerobic_TE'] = np.where(pd.isna(df_merged['Aerobic_TE']), 0, df_merged['Aerobic_TE'])"
   ]
  },
  {
   "cell_type": "markdown",
   "metadata": {},
   "source": [
    "<hr>\n",
    "When I merged the data, I first did a left join on the sleep dataset.\n",
    "\n",
    "The sleep dataset contains **1 row per date**, but the activities dataset contains 1 row <u>**per activity**</u>, so in the merged dataset I have several same sleep data for one date but several activities for that date.\n",
    "\n",
    "The following section deals with 2 cases:\n",
    "\n",
    "1. We have several activities for the same date, with at least 2 different activities.\n",
    "2. We have several activities for the same date, but the same activity has been repeated.\n",
    "\n",
    "In both cases, we create a new variable representing the number of different activities performed that day, and calculate the sum of duration, distance and aerobic TE."
   ]
  },
  {
   "cell_type": "code",
   "execution_count": 255,
   "metadata": {},
   "outputs": [],
   "source": [
    "# Create a new dataframe that contains multiplied date\n",
    "m_date = pd.DataFrame(df_merged['Date'].value_counts()).reset_index()\n",
    "m_date = m_date.loc[m_date['count'] > 1]"
   ]
  },
  {
   "cell_type": "code",
   "execution_count": 256,
   "metadata": {},
   "outputs": [],
   "source": [
    "# Create a dataframe that contains the number of unique activities, per date\n",
    "unique_act = df_merged.groupby('Date')['Type'].nunique().reset_index()\n",
    "# Contains date that have at least 2 different activities\n",
    "mult_act = unique_act.loc[unique_act['Type'] > 1]"
   ]
  },
  {
   "cell_type": "code",
   "execution_count": 257,
   "metadata": {},
   "outputs": [
    {
     "data": {
      "text/plain": [
       "(27, 8)"
      ]
     },
     "execution_count": 257,
     "metadata": {},
     "output_type": "execute_result"
    }
   ],
   "source": [
    "# Retrieve the date where there is at least 2 activity types\n",
    "mult_act_date = [date for date in mult_act['Date'].tolist() if date in m_date['Date'].tolist()]\n",
    "mult_act_date_n_type = mult_act['Type'].tolist()\n",
    "\n",
    "# multiplied dates but that has multiplie activities of the unique same type\n",
    "unique_act_date = [date for date in m_date['Date'] if date not in mult_act_date]\n",
    "\n",
    "len(mult_act_date), len(unique_act_date)"
   ]
  },
  {
   "cell_type": "code",
   "execution_count": 258,
   "metadata": {},
   "outputs": [],
   "source": [
    "df_merged['N_activities'] = np.zeros(df_merged.shape[0])\n",
    "\n",
    "# set N_activities for multiplied dates with at least 2 activity types\n",
    "for idx, date in enumerate(mult_act_date):\n",
    "    df_merged.loc[df_merged['Date'] == date, 'N_activities'] = mult_act_date_n_type[idx]\n",
    "\n",
    "# Set N_activities for multiplied dates but with 1 activity type\n",
    "for date in unique_act_date:\n",
    "    df_merged.loc[df_merged['Date'] == date, 'N_activities'] = 1"
   ]
  },
  {
   "cell_type": "code",
   "execution_count": 259,
   "metadata": {},
   "outputs": [],
   "source": [
    "# Where date are not mutliplied therefore we set n_activities to 1\n",
    "df_merged['N_activities'] = np.where((df_merged['Type'] != 'No_activities') & (df_merged['N_activities'] == 0), 1, df_merged['N_activities'])"
   ]
  },
  {
   "cell_type": "code",
   "execution_count": 260,
   "metadata": {},
   "outputs": [],
   "source": [
    "df_merged['Total_duration'] = np.zeros(df_merged.shape[0])\n",
    "df_merged['Total_distance'] = np.zeros(df_merged.shape[0])\n",
    "df_merged['Total_aerobic_TE'] = np.zeros(df_merged.shape[0])"
   ]
  },
  {
   "cell_type": "code",
   "execution_count": 261,
   "metadata": {},
   "outputs": [],
   "source": [
    "# sums distance duration and aerobic TE for the multiple activities date\n",
    "to_sum_cols = ['Activity_distance', 'Duration', 'Aerobic_TE']\n",
    "\n",
    "for date in mult_act_date + unique_act_date:\n",
    "    dist, dur, te = df_merged.loc[df_merged['Date'] == date, to_sum_cols].sum()\n",
    "    df_merged.loc[df_merged['Date'] == date, 'Total_distance'] = dist\n",
    "    df_merged.loc[df_merged['Date'] == date, 'Total_duration'] = dur\n",
    "    df_merged.loc[df_merged['Date'] == date, 'Total_aerobic_TE'] = te"
   ]
  },
  {
   "cell_type": "code",
   "execution_count": 262,
   "metadata": {},
   "outputs": [],
   "source": [
    "df_merged['Total_duration'] = np.where(df_merged['Total_duration'] == 0, df_merged['Duration'], df_merged['Total_duration'])\n",
    "df_merged['Total_distance'] = np.where(df_merged['Total_distance'] == 0, df_merged['Activity_distance'], df_merged['Total_distance'])\n",
    "df_merged['Total_aerobic_TE'] = np.where(df_merged['Total_aerobic_TE'] == 0, df_merged['Aerobic_TE'], df_merged['Total_aerobic_TE'])"
   ]
  },
  {
   "cell_type": "code",
   "execution_count": 263,
   "metadata": {},
   "outputs": [],
   "source": [
    "# Now we keep only one row for the duplicated dates\n",
    "df_merged = df_merged.drop_duplicates(subset='Date', keep='first').reset_index(drop=True)"
   ]
  },
  {
   "cell_type": "code",
   "execution_count": 264,
   "metadata": {},
   "outputs": [],
   "source": [
    "to_drop_cols = ['Type', 'Duration', 'Activity_distance', 'Activity_calories', 'Average_pace', 'Best_pace', 'Maximum_temperature',\n",
    "'Activity_minimum_respiratory_frequency', 'Travel_time', 'Elapsed_time', 'Active_calories', 'Resting_calories', 'Activity_average_heart_rate',\n",
    "'Activity_maximum_heart_rate', 'Average_running_cadence', 'Maximum_running_cadence', 'Activity_average_respiratory_frequency',\n",
    "'Activity_maximum_respiratory_frequency', 'Minimum_altitude', 'Maximum_altitude', 'Resting_HR', 'Aerobic_TE', 'Waking_hour']"
   ]
  },
  {
   "cell_type": "code",
   "execution_count": 265,
   "metadata": {},
   "outputs": [
    {
     "data": {
      "text/plain": [
       "Date                                      0.0\n",
       "Score                                     0.0\n",
       "Quality                                   0.0\n",
       "Sleep_duration                            0.0\n",
       "Bedtime                                   0.0\n",
       "Waking_hour                               0.0\n",
       "Type                                      0.0\n",
       "Activity_distance                         0.0\n",
       "Activity_calories                         0.0\n",
       "Duration                                  0.0\n",
       "Activity_average_heart_rate               0.0\n",
       "Activity_maximum_heart_rate               0.0\n",
       "Aerobic_TE                                0.0\n",
       "Average_running_cadence                   0.0\n",
       "Maximum_running_cadence                   0.0\n",
       "Average_pace                              0.0\n",
       "Best_pace                                 0.0\n",
       "Maximum_temperature                       0.0\n",
       "Activity_average_respiratory_frequency    0.0\n",
       "Activity_minimum_respiratory_frequency    0.0\n",
       "Activity_maximum_respiratory_frequency    0.0\n",
       "Travel_time                               0.0\n",
       "Elapsed_time                              0.0\n",
       "Minimum_altitude                          0.0\n",
       "Maximum_altitude                          0.0\n",
       "Highest_HR                                0.0\n",
       "Active_calories                           0.0\n",
       "Resting_calories                          0.0\n",
       "Total_calories                            0.0\n",
       "Awake_time                                0.0\n",
       "N_activities                              0.0\n",
       "Total_duration                            0.0\n",
       "Total_distance                            0.0\n",
       "Total_aerobic_TE                          0.0\n",
       "dtype: float64"
      ]
     },
     "execution_count": 265,
     "metadata": {},
     "output_type": "execute_result"
    }
   ],
   "source": [
    "miss_vals = df_merged.select_dtypes(include='number').isnull().mean()\n",
    "miss_vals_cols = miss_vals[miss_vals > 0].index\n",
    "\n",
    "for col in miss_vals_cols:\n",
    "    df_merged[col] = np.where(pd.isna(df_merged[col]), 0, df_merged[col])\n",
    "\n",
    "df_merged.isnull().mean()"
   ]
  },
  {
   "cell_type": "code",
   "execution_count": 266,
   "metadata": {},
   "outputs": [
    {
     "name": "stdout",
     "output_type": "stream",
     "text": [
      "Course à pied : 0\n",
      "Cyclisme : 1\n",
      "Musculation : 2\n",
      "Nat. piscine : 3\n",
      "No_activities : 4\n"
     ]
    }
   ],
   "source": [
    "quality_le = LabelEncoder()\n",
    "quality_le.fit(df_merged['Type'].unique())\n",
    "\n",
    "for sport, numb in zip(quality_le.classes_, quality_le.transform(['Course à pied', 'Cyclisme', 'Musculation', 'Nat. piscine', 'No_activities'])):\n",
    "    print(f\"{sport} : {numb}\")\n",
    "\n",
    "df_merged['Type'] = quality_le.transform(df_merged['Type'])"
   ]
  },
  {
   "cell_type": "code",
   "execution_count": 267,
   "metadata": {},
   "outputs": [
    {
     "data": {
      "text/plain": [
       "(406, 33)"
      ]
     },
     "execution_count": 267,
     "metadata": {},
     "output_type": "execute_result"
    }
   ],
   "source": [
    "df_merged = df_merged.drop(columns=['Waking_hour'])\n",
    "df_merged.shape"
   ]
  },
  {
   "cell_type": "code",
   "execution_count": 268,
   "metadata": {},
   "outputs": [],
   "source": [
    "df_merged.to_csv(\"Data/merged_data.csv\", index=False)"
   ]
  },
  {
   "cell_type": "code",
   "execution_count": null,
   "metadata": {},
   "outputs": [],
   "source": []
  }
 ],
 "metadata": {
  "kernelspec": {
   "display_name": "ml_py312",
   "language": "python",
   "name": "python3"
  },
  "language_info": {
   "codemirror_mode": {
    "name": "ipython",
    "version": 3
   },
   "file_extension": ".py",
   "mimetype": "text/x-python",
   "name": "python",
   "nbconvert_exporter": "python",
   "pygments_lexer": "ipython3",
   "version": "3.12.5"
  }
 },
 "nbformat": 4,
 "nbformat_minor": 2
}
